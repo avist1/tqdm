{
 "cells": [
  {
   "cell_type": "code",
   "execution_count": 9,
   "metadata": {},
   "outputs": [],
   "source": [
    "from tqdm.notebook import tqdm_notebook\n",
    "import time"
   ]
  },
  {
   "cell_type": "code",
   "execution_count": 21,
   "metadata": {
    "collapsed": true
   },
   "outputs": [
    {
     "data": {
      "application/vnd.jupyter.widget-view+json": {
       "model_id": "2214c2024aaf463bb40a0c591f42f641",
       "version_major": 2,
       "version_minor": 0
      },
      "text/plain": [
       "HBox(children=(FloatProgress(value=0.0, description='main_process', max=3.0, style=ProgressStyle(description_w…"
      ]
     },
     "metadata": {},
     "output_type": "display_data"
    },
    {
     "data": {
      "application/vnd.jupyter.widget-view+json": {
       "model_id": "f51112eb8aed4d3fa98000b8c3d57e3e",
       "version_major": 2,
       "version_minor": 0
      },
      "text/plain": [
       "HBox(children=(FloatProgress(value=0.0, description='Loop 0', max=5.0, style=ProgressStyle(description_width='…"
      ]
     },
     "metadata": {},
     "output_type": "display_data"
    },
    {
     "name": "stdout",
     "output_type": "stream",
     "text": [
      " The number is : 20 and the loop is:0\n",
      " The number is : 21 and the loop is:0\n",
      " The number is : 22 and the loop is:0\n",
      " The number is : 23 and the loop is:0\n",
      " The number is : 24 and the loop is:0\n",
      "\n"
     ]
    },
    {
     "data": {
      "application/vnd.jupyter.widget-view+json": {
       "model_id": "87c895b6777b4f269c9d70e2749bb500",
       "version_major": 2,
       "version_minor": 0
      },
      "text/plain": [
       "HBox(children=(FloatProgress(value=0.0, description='Loop 1', max=5.0, style=ProgressStyle(description_width='…"
      ]
     },
     "metadata": {},
     "output_type": "display_data"
    },
    {
     "name": "stdout",
     "output_type": "stream",
     "text": [
      " The number is : 20 and the loop is:1\n",
      " The number is : 21 and the loop is:1\n",
      " The number is : 22 and the loop is:1\n",
      " The number is : 23 and the loop is:1\n",
      " The number is : 24 and the loop is:1\n",
      "\n"
     ]
    },
    {
     "data": {
      "application/vnd.jupyter.widget-view+json": {
       "model_id": "b485eca83b5547b6ab70a58650d45aa4",
       "version_major": 2,
       "version_minor": 0
      },
      "text/plain": [
       "HBox(children=(FloatProgress(value=0.0, description='Loop 2', max=5.0, style=ProgressStyle(description_width='…"
      ]
     },
     "metadata": {},
     "output_type": "display_data"
    },
    {
     "name": "stdout",
     "output_type": "stream",
     "text": [
      " The number is : 20 and the loop is:2\n",
      " The number is : 21 and the loop is:2\n",
      " The number is : 22 and the loop is:2\n",
      " The number is : 23 and the loop is:2\n",
      " The number is : 24 and the loop is:2\n",
      "\n",
      "\n"
     ]
    }
   ],
   "source": [
    "for i in tqdm_notebook(range(3),desc = 'main_process'):\n",
    "    for j in tqdm_notebook(range(20,25),desc = f'Loop {str(i)}'):\n",
    "        print (f' The number is : {j} and the loop is:{i}')\n",
    "        time.sleep(0.5)"
   ]
  }
 ],
 "metadata": {
  "kernelspec": {
   "display_name": "Python 3",
   "language": "python",
   "name": "python3"
  },
  "language_info": {
   "codemirror_mode": {
    "name": "ipython",
    "version": 3
   },
   "file_extension": ".py",
   "mimetype": "text/x-python",
   "name": "python",
   "nbconvert_exporter": "python",
   "pygments_lexer": "ipython3",
   "version": "3.8.3"
  }
 },
 "nbformat": 4,
 "nbformat_minor": 4
}
